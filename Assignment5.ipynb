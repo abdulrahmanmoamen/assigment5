{
  "nbformat": 4,
  "nbformat_minor": 0,
  "metadata": {
    "colab": {
      "private_outputs": true,
      "provenance": []
    },
    "kernelspec": {
      "name": "python3",
      "display_name": "Python 3"
    },
    "language_info": {
      "name": "python"
    }
  },
  "cells": [
    {
      "cell_type": "markdown",
      "source": [
        "### Task 1"
      ],
      "metadata": {
        "id": "vj3HPudmuzG-"
      }
    },
    {
      "cell_type": "markdown",
      "source": [
        "This code defines a simple bank system using Python classes. The `Bank class` manages user accounts, balances, registration, login, balance checking, deposits, and withdrawals. Here's a summary of the functionality:\n",
        "\n",
        "`User Registration`: Allows a user to register by entering a unique username and password. If the username already exists, it prompts the user to choose a different one.\n",
        "\n",
        "`User Login`: Allows a registered user to log in by entering their username and password. If the username and password match, the user is logged in successfully.\n",
        "\n",
        "`Check Balance`: Allows a logged-in user to check their current account balance.\n",
        "\n",
        "`Deposit`: Allows a logged-in user to deposit money into their account. The user enters the deposit amount, which is added to their account balance.\n",
        "\n",
        "`Withdrawal`: Allows a logged-in user to withdraw money from their account, provided they have sufficient balance. The user enters the withdrawal amount, which is deducted from their account balance."
      ],
      "metadata": {
        "id": "Qe_S6JKbuXef"
      }
    },
    {
      "cell_type": "code",
      "source": [
        "class Bankaccount:\n",
        "    def __init__(self,user_name,bassword,balance):\n",
        "        self.user_name = user_name\n",
        "        self.bassword = bassword\n",
        "        self.balance = balance\n",
        "    def deposit(self):\n",
        "        amount = float(input(\"Enter amount to be deposited: \"))\n",
        "        self.balance += amount\n",
        "        print(\"\\n Amount Deposited:\", amount)\n",
        "    def withdraw(self):\n",
        "        amount = float(input(\"Enter amount to be withdrawn: \"))\n",
        "        if self.balance >= amount:\n",
        "            self.balance -= amount\n",
        "            print(\"\\n You Withdrew:\", amount)\n",
        "\n",
        "        else:\n",
        "            print(\"\\n Insufficient balance  \")\n",
        "    def display(self):\n",
        "           print(\"\\n Net Available Balance =\", self.balance)\n",
        "s=Bankaccount()\n",
        "s.deposit()\n",
        "s.withdraw()\n",
        "s.display()\n"
      ],
      "metadata": {
        "id": "SRspPoTsfJ2a"
      },
      "execution_count": null,
      "outputs": []
    },
    {
      "cell_type": "code",
      "source": [
        "class Bank:\n",
        "    def __init__(self):\n",
        "        self.users = {}\n",
        "\n",
        "    def register(self, username, password):\n",
        "        if username in self.users:\n",
        "            print(\"Username already exists. Please choose a different one.\")\n",
        "        else:\n",
        "            self.users[username] = {'password': password, 'balance': 0}\n",
        "            print(\"Registration successful.\")\n",
        "\n",
        "    def login(self, username, password):\n",
        "        if username in self.users and self.users[username]['password'] == password:\n",
        "            print(\"Login successful.\")\n",
        "            return True\n",
        "        else:\n",
        "            print(\"Invalid username or password.\")\n",
        "            return False\n",
        "\n",
        "    def check_balance(self, username):\n",
        "        if username in self.users:\n",
        "            balance = self.users[username]['balance']\n",
        "            print(f\"Your current balance is: {balance}\")\n",
        "        else:\n",
        "            print(\"User not found.\")\n",
        "\n",
        "    def deposit(self, username, amount):\n",
        "        if username in self.users:\n",
        "            self.users[username]['balance'] += amount\n",
        "            print(f\"Deposit of {amount} successful.\")\n",
        "        else:\n",
        "            print(\"User not found.\")\n",
        "\n",
        "    def withdraw(self, username, amount):\n",
        "        if username in self.users:\n",
        "            if self.users[username]['balance'] >= amount:\n",
        "                self.users[username]['balance'] -= amount\n",
        "                print(f\"Withdrawal of {amount} successful.\")\n",
        "            else:\n",
        "                print(\"Insufficient balance.\")\n",
        "        else:\n",
        "            print(\"User not found.\")\n",
        "\n",
        "bank = Bank()\n",
        "bank.register(\"Alice\", \"password123\")\n",
        "bank.register(\"Bob\", \"password456\")\n",
        "\n",
        "bank.login(\"Alice\", \"password123\")\n",
        "bank.deposit(\"Alice\", 1000)\n",
        "bank.check_balance(\"Alice\")\n",
        "bank.withdraw(\"Alice\", 500)\n",
        "bank.check_balance(\"Alice\")\n",
        "\n",
        "bank.login(\"Bob\", \"password123\")\n",
        "bank.login(\"Charlie\", \"password789\")"
      ],
      "metadata": {
        "id": "ozlPc1S4oAw1"
      },
      "execution_count": null,
      "outputs": []
    },
    {
      "cell_type": "markdown",
      "source": [
        "### Task 2"
      ],
      "metadata": {
        "id": "adnMuaiQu1-_"
      }
    },
    {
      "cell_type": "markdown",
      "source": [
        "Defines a class named `Library` that represents a `library` system. The class has attributes for a list of games (gameslist), a dictionary of lenders (lenders), and a dictionary of donors (donors). It also includes methods for managing the library's collection of games.\n",
        "\n",
        "`games` method returns the list of games in the library.\n",
        "\n",
        "The `lend method` allows a person to borrow a game from the library by removing the game from the list of games and updating the lenders dictionary with the borrower's name and the borrowed game.\n",
        "\n",
        "The `returnb method` allows a person to return a borrowed game to the library by adding the game back to the list of games and removing the borrower's name from the lenders dictionary.\n",
        "\n",
        "The `donate method` allows a person to donate a new game to the library by adding the game to the list of games and updating the donors dictionary with the donor's name and the donated game."
      ],
      "metadata": {
        "id": "RacJKaSmvOAc"
      }
    },
    {
      "cell_type": "code",
      "source": [
        "class Library:\n",
        "    def __init__(self):\n",
        "        self.gameslist = []\n",
        "        self.lenders = {}\n",
        "        self.donors = {}\n",
        "\n",
        "    def games(self):\n",
        "        return self.gameslist\n",
        "\n",
        "    def lend(self, borrower, game):\n",
        "        if game in self.gameslist:\n",
        "            self.gameslist.remove(game)\n",
        "            self.lenders[borrower] = game\n",
        "            print(f\"{game} has been lend to {borrower}.\")\n",
        "        else:\n",
        "            print(f\"Sorry, {game} is not available in the library.\")\n",
        "\n",
        "    def returnb(self, borrower, game):\n",
        "        if borrower in self.lenders and self.lenders[borrower] == game:\n",
        "            self.gameslist.append(game)\n",
        "            del self.lenders[borrower]\n",
        "            print(f\"{game} has been returned by {borrower}.\")\n",
        "        else:\n",
        "            print(f\"Either {borrower} didn't borrow {game} from this library or {game} has already been returned.\")\n",
        "\n",
        "    def donate(self, donor, game):\n",
        "        self.gameslist.append(game)\n",
        "        self.donors[donor] = game\n",
        "        print(f\"{game} has been donated to the library by {donor}.\")\n",
        "library = Library()\n",
        "library.donate(\"John\", \"Chess\")\n",
        "library.donate(\"Alice\", \"Monopoly\")\n",
        "print(\"Games in the library:\", library.games())\n",
        "library.lend(\"Bob\", \"Chess\")\n",
        "print(\"Games in the library after lending:\", library.games())\n",
        "library.returnb(\"Bob\", \"Chess\")\n",
        "print(\"Games in the library after returning:\", library.games())"
      ],
      "metadata": {
        "id": "9In5iGZAn22F"
      },
      "execution_count": null,
      "outputs": []
    },
    {
      "cell_type": "code",
      "execution_count": null,
      "metadata": {
        "id": "9d6mT0weuCr0"
      },
      "outputs": [],
      "source": []
    }
  ]
}